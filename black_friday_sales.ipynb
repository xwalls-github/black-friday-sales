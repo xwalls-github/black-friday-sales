{
 "cells": [
  {
   "cell_type": "code",
   "execution_count": 2,
   "metadata": {},
   "outputs": [
    {
     "data": {
      "text/html": [
       "<div>\n",
       "<style scoped>\n",
       "    .dataframe tbody tr th:only-of-type {\n",
       "        vertical-align: middle;\n",
       "    }\n",
       "\n",
       "    .dataframe tbody tr th {\n",
       "        vertical-align: top;\n",
       "    }\n",
       "\n",
       "    .dataframe thead th {\n",
       "        text-align: right;\n",
       "    }\n",
       "</style>\n",
       "<table border=\"1\" class=\"dataframe\">\n",
       "  <thead>\n",
       "    <tr style=\"text-align: right;\">\n",
       "      <th></th>\n",
       "      <th>User_ID</th>\n",
       "      <th>Product_ID</th>\n",
       "      <th>Gender</th>\n",
       "      <th>Age</th>\n",
       "      <th>Occupation</th>\n",
       "      <th>City_Category</th>\n",
       "      <th>Stay_In_Current_City_Years</th>\n",
       "      <th>Marital_Status</th>\n",
       "      <th>Product_Category_1</th>\n",
       "      <th>Product_Category_2</th>\n",
       "      <th>Product_Category_3</th>\n",
       "      <th>Purchase</th>\n",
       "    </tr>\n",
       "  </thead>\n",
       "  <tbody>\n",
       "    <tr>\n",
       "      <th>0</th>\n",
       "      <td>1000001</td>\n",
       "      <td>P00069042</td>\n",
       "      <td>F</td>\n",
       "      <td>0-17</td>\n",
       "      <td>10</td>\n",
       "      <td>A</td>\n",
       "      <td>2</td>\n",
       "      <td>0</td>\n",
       "      <td>3</td>\n",
       "      <td>NaN</td>\n",
       "      <td>NaN</td>\n",
       "      <td>8370</td>\n",
       "    </tr>\n",
       "    <tr>\n",
       "      <th>1</th>\n",
       "      <td>1000001</td>\n",
       "      <td>P00248942</td>\n",
       "      <td>F</td>\n",
       "      <td>0-17</td>\n",
       "      <td>10</td>\n",
       "      <td>A</td>\n",
       "      <td>2</td>\n",
       "      <td>0</td>\n",
       "      <td>1</td>\n",
       "      <td>6.0</td>\n",
       "      <td>14.0</td>\n",
       "      <td>15200</td>\n",
       "    </tr>\n",
       "    <tr>\n",
       "      <th>2</th>\n",
       "      <td>1000001</td>\n",
       "      <td>P00087842</td>\n",
       "      <td>F</td>\n",
       "      <td>0-17</td>\n",
       "      <td>10</td>\n",
       "      <td>A</td>\n",
       "      <td>2</td>\n",
       "      <td>0</td>\n",
       "      <td>12</td>\n",
       "      <td>NaN</td>\n",
       "      <td>NaN</td>\n",
       "      <td>1422</td>\n",
       "    </tr>\n",
       "    <tr>\n",
       "      <th>3</th>\n",
       "      <td>1000001</td>\n",
       "      <td>P00085442</td>\n",
       "      <td>F</td>\n",
       "      <td>0-17</td>\n",
       "      <td>10</td>\n",
       "      <td>A</td>\n",
       "      <td>2</td>\n",
       "      <td>0</td>\n",
       "      <td>12</td>\n",
       "      <td>14.0</td>\n",
       "      <td>NaN</td>\n",
       "      <td>1057</td>\n",
       "    </tr>\n",
       "    <tr>\n",
       "      <th>4</th>\n",
       "      <td>1000002</td>\n",
       "      <td>P00285442</td>\n",
       "      <td>M</td>\n",
       "      <td>55+</td>\n",
       "      <td>16</td>\n",
       "      <td>C</td>\n",
       "      <td>4+</td>\n",
       "      <td>0</td>\n",
       "      <td>8</td>\n",
       "      <td>NaN</td>\n",
       "      <td>NaN</td>\n",
       "      <td>7969</td>\n",
       "    </tr>\n",
       "    <tr>\n",
       "      <th>...</th>\n",
       "      <td>...</td>\n",
       "      <td>...</td>\n",
       "      <td>...</td>\n",
       "      <td>...</td>\n",
       "      <td>...</td>\n",
       "      <td>...</td>\n",
       "      <td>...</td>\n",
       "      <td>...</td>\n",
       "      <td>...</td>\n",
       "      <td>...</td>\n",
       "      <td>...</td>\n",
       "      <td>...</td>\n",
       "    </tr>\n",
       "    <tr>\n",
       "      <th>550063</th>\n",
       "      <td>1006033</td>\n",
       "      <td>P00372445</td>\n",
       "      <td>M</td>\n",
       "      <td>51-55</td>\n",
       "      <td>13</td>\n",
       "      <td>B</td>\n",
       "      <td>1</td>\n",
       "      <td>1</td>\n",
       "      <td>20</td>\n",
       "      <td>NaN</td>\n",
       "      <td>NaN</td>\n",
       "      <td>368</td>\n",
       "    </tr>\n",
       "    <tr>\n",
       "      <th>550064</th>\n",
       "      <td>1006035</td>\n",
       "      <td>P00375436</td>\n",
       "      <td>F</td>\n",
       "      <td>26-35</td>\n",
       "      <td>1</td>\n",
       "      <td>C</td>\n",
       "      <td>3</td>\n",
       "      <td>0</td>\n",
       "      <td>20</td>\n",
       "      <td>NaN</td>\n",
       "      <td>NaN</td>\n",
       "      <td>371</td>\n",
       "    </tr>\n",
       "    <tr>\n",
       "      <th>550065</th>\n",
       "      <td>1006036</td>\n",
       "      <td>P00375436</td>\n",
       "      <td>F</td>\n",
       "      <td>26-35</td>\n",
       "      <td>15</td>\n",
       "      <td>B</td>\n",
       "      <td>4+</td>\n",
       "      <td>1</td>\n",
       "      <td>20</td>\n",
       "      <td>NaN</td>\n",
       "      <td>NaN</td>\n",
       "      <td>137</td>\n",
       "    </tr>\n",
       "    <tr>\n",
       "      <th>550066</th>\n",
       "      <td>1006038</td>\n",
       "      <td>P00375436</td>\n",
       "      <td>F</td>\n",
       "      <td>55+</td>\n",
       "      <td>1</td>\n",
       "      <td>C</td>\n",
       "      <td>2</td>\n",
       "      <td>0</td>\n",
       "      <td>20</td>\n",
       "      <td>NaN</td>\n",
       "      <td>NaN</td>\n",
       "      <td>365</td>\n",
       "    </tr>\n",
       "    <tr>\n",
       "      <th>550067</th>\n",
       "      <td>1006039</td>\n",
       "      <td>P00371644</td>\n",
       "      <td>F</td>\n",
       "      <td>46-50</td>\n",
       "      <td>0</td>\n",
       "      <td>B</td>\n",
       "      <td>4+</td>\n",
       "      <td>1</td>\n",
       "      <td>20</td>\n",
       "      <td>NaN</td>\n",
       "      <td>NaN</td>\n",
       "      <td>490</td>\n",
       "    </tr>\n",
       "  </tbody>\n",
       "</table>\n",
       "<p>550068 rows × 12 columns</p>\n",
       "</div>"
      ],
      "text/plain": [
       "        User_ID Product_ID Gender    Age  Occupation City_Category  \\\n",
       "0       1000001  P00069042      F   0-17          10             A   \n",
       "1       1000001  P00248942      F   0-17          10             A   \n",
       "2       1000001  P00087842      F   0-17          10             A   \n",
       "3       1000001  P00085442      F   0-17          10             A   \n",
       "4       1000002  P00285442      M    55+          16             C   \n",
       "...         ...        ...    ...    ...         ...           ...   \n",
       "550063  1006033  P00372445      M  51-55          13             B   \n",
       "550064  1006035  P00375436      F  26-35           1             C   \n",
       "550065  1006036  P00375436      F  26-35          15             B   \n",
       "550066  1006038  P00375436      F    55+           1             C   \n",
       "550067  1006039  P00371644      F  46-50           0             B   \n",
       "\n",
       "       Stay_In_Current_City_Years  Marital_Status  Product_Category_1  \\\n",
       "0                               2               0                   3   \n",
       "1                               2               0                   1   \n",
       "2                               2               0                  12   \n",
       "3                               2               0                  12   \n",
       "4                              4+               0                   8   \n",
       "...                           ...             ...                 ...   \n",
       "550063                          1               1                  20   \n",
       "550064                          3               0                  20   \n",
       "550065                         4+               1                  20   \n",
       "550066                          2               0                  20   \n",
       "550067                         4+               1                  20   \n",
       "\n",
       "        Product_Category_2  Product_Category_3  Purchase  \n",
       "0                      NaN                 NaN      8370  \n",
       "1                      6.0                14.0     15200  \n",
       "2                      NaN                 NaN      1422  \n",
       "3                     14.0                 NaN      1057  \n",
       "4                      NaN                 NaN      7969  \n",
       "...                    ...                 ...       ...  \n",
       "550063                 NaN                 NaN       368  \n",
       "550064                 NaN                 NaN       371  \n",
       "550065                 NaN                 NaN       137  \n",
       "550066                 NaN                 NaN       365  \n",
       "550067                 NaN                 NaN       490  \n",
       "\n",
       "[550068 rows x 12 columns]"
      ]
     },
     "execution_count": 2,
     "metadata": {},
     "output_type": "execute_result"
    }
   ],
   "source": [
    "import pandas as pd\n",
    "\n",
    "black_friday_sales_FILE_ = 'BlackFridaySales.csv'\n",
    "\n",
    "bfs_dataFrame = pd.read_csv(black_friday_sales_FILE_)\n",
    "\n",
    "bfs_dataFrame\n"
   ]
  },
  {
   "cell_type": "code",
   "execution_count": 3,
   "metadata": {},
   "outputs": [
    {
     "name": "stdout",
     "output_type": "stream",
     "text": [
      "<class 'pandas.core.frame.DataFrame'>\n",
      "RangeIndex: 550068 entries, 0 to 550067\n",
      "Data columns (total 12 columns):\n",
      " #   Column                      Non-Null Count   Dtype  \n",
      "---  ------                      --------------   -----  \n",
      " 0   User_ID                     550068 non-null  int64  \n",
      " 1   Product_ID                  550068 non-null  object \n",
      " 2   Gender                      550068 non-null  object \n",
      " 3   Age                         550068 non-null  object \n",
      " 4   Occupation                  550068 non-null  int64  \n",
      " 5   City_Category               550068 non-null  object \n",
      " 6   Stay_In_Current_City_Years  550068 non-null  object \n",
      " 7   Marital_Status              550068 non-null  int64  \n",
      " 8   Product_Category_1          550068 non-null  int64  \n",
      " 9   Product_Category_2          376430 non-null  float64\n",
      " 10  Product_Category_3          166821 non-null  float64\n",
      " 11  Purchase                    550068 non-null  int64  \n",
      "dtypes: float64(2), int64(5), object(5)\n",
      "memory usage: 50.4+ MB\n"
     ]
    }
   ],
   "source": [
    "bfs_dataFrame.info()"
   ]
  },
  {
   "cell_type": "code",
   "execution_count": 4,
   "metadata": {},
   "outputs": [
    {
     "data": {
      "text/html": [
       "<div>\n",
       "<style scoped>\n",
       "    .dataframe tbody tr th:only-of-type {\n",
       "        vertical-align: middle;\n",
       "    }\n",
       "\n",
       "    .dataframe tbody tr th {\n",
       "        vertical-align: top;\n",
       "    }\n",
       "\n",
       "    .dataframe thead th {\n",
       "        text-align: right;\n",
       "    }\n",
       "</style>\n",
       "<table border=\"1\" class=\"dataframe\">\n",
       "  <thead>\n",
       "    <tr style=\"text-align: right;\">\n",
       "      <th></th>\n",
       "      <th>User_ID</th>\n",
       "      <th>Occupation</th>\n",
       "      <th>Marital_Status</th>\n",
       "      <th>Product_Category_1</th>\n",
       "      <th>Product_Category_2</th>\n",
       "      <th>Product_Category_3</th>\n",
       "      <th>Purchase</th>\n",
       "    </tr>\n",
       "  </thead>\n",
       "  <tbody>\n",
       "    <tr>\n",
       "      <th>count</th>\n",
       "      <td>5.500680e+05</td>\n",
       "      <td>550068.000000</td>\n",
       "      <td>550068.000000</td>\n",
       "      <td>550068.000000</td>\n",
       "      <td>376430.000000</td>\n",
       "      <td>166821.000000</td>\n",
       "      <td>550068.000000</td>\n",
       "    </tr>\n",
       "    <tr>\n",
       "      <th>mean</th>\n",
       "      <td>1.003029e+06</td>\n",
       "      <td>8.076707</td>\n",
       "      <td>0.409653</td>\n",
       "      <td>5.404270</td>\n",
       "      <td>9.842329</td>\n",
       "      <td>12.668243</td>\n",
       "      <td>9263.968713</td>\n",
       "    </tr>\n",
       "    <tr>\n",
       "      <th>std</th>\n",
       "      <td>1.727592e+03</td>\n",
       "      <td>6.522660</td>\n",
       "      <td>0.491770</td>\n",
       "      <td>3.936211</td>\n",
       "      <td>5.086590</td>\n",
       "      <td>4.125338</td>\n",
       "      <td>5023.065394</td>\n",
       "    </tr>\n",
       "    <tr>\n",
       "      <th>min</th>\n",
       "      <td>1.000001e+06</td>\n",
       "      <td>0.000000</td>\n",
       "      <td>0.000000</td>\n",
       "      <td>1.000000</td>\n",
       "      <td>2.000000</td>\n",
       "      <td>3.000000</td>\n",
       "      <td>12.000000</td>\n",
       "    </tr>\n",
       "    <tr>\n",
       "      <th>25%</th>\n",
       "      <td>1.001516e+06</td>\n",
       "      <td>2.000000</td>\n",
       "      <td>0.000000</td>\n",
       "      <td>1.000000</td>\n",
       "      <td>5.000000</td>\n",
       "      <td>9.000000</td>\n",
       "      <td>5823.000000</td>\n",
       "    </tr>\n",
       "    <tr>\n",
       "      <th>50%</th>\n",
       "      <td>1.003077e+06</td>\n",
       "      <td>7.000000</td>\n",
       "      <td>0.000000</td>\n",
       "      <td>5.000000</td>\n",
       "      <td>9.000000</td>\n",
       "      <td>14.000000</td>\n",
       "      <td>8047.000000</td>\n",
       "    </tr>\n",
       "    <tr>\n",
       "      <th>75%</th>\n",
       "      <td>1.004478e+06</td>\n",
       "      <td>14.000000</td>\n",
       "      <td>1.000000</td>\n",
       "      <td>8.000000</td>\n",
       "      <td>15.000000</td>\n",
       "      <td>16.000000</td>\n",
       "      <td>12054.000000</td>\n",
       "    </tr>\n",
       "    <tr>\n",
       "      <th>max</th>\n",
       "      <td>1.006040e+06</td>\n",
       "      <td>20.000000</td>\n",
       "      <td>1.000000</td>\n",
       "      <td>20.000000</td>\n",
       "      <td>18.000000</td>\n",
       "      <td>18.000000</td>\n",
       "      <td>23961.000000</td>\n",
       "    </tr>\n",
       "  </tbody>\n",
       "</table>\n",
       "</div>"
      ],
      "text/plain": [
       "            User_ID     Occupation  Marital_Status  Product_Category_1  \\\n",
       "count  5.500680e+05  550068.000000   550068.000000       550068.000000   \n",
       "mean   1.003029e+06       8.076707        0.409653            5.404270   \n",
       "std    1.727592e+03       6.522660        0.491770            3.936211   \n",
       "min    1.000001e+06       0.000000        0.000000            1.000000   \n",
       "25%    1.001516e+06       2.000000        0.000000            1.000000   \n",
       "50%    1.003077e+06       7.000000        0.000000            5.000000   \n",
       "75%    1.004478e+06      14.000000        1.000000            8.000000   \n",
       "max    1.006040e+06      20.000000        1.000000           20.000000   \n",
       "\n",
       "       Product_Category_2  Product_Category_3       Purchase  \n",
       "count       376430.000000       166821.000000  550068.000000  \n",
       "mean             9.842329           12.668243    9263.968713  \n",
       "std              5.086590            4.125338    5023.065394  \n",
       "min              2.000000            3.000000      12.000000  \n",
       "25%              5.000000            9.000000    5823.000000  \n",
       "50%              9.000000           14.000000    8047.000000  \n",
       "75%             15.000000           16.000000   12054.000000  \n",
       "max             18.000000           18.000000   23961.000000  "
      ]
     },
     "execution_count": 4,
     "metadata": {},
     "output_type": "execute_result"
    }
   ],
   "source": [
    "bfs_dataFrame.describe()"
   ]
  },
  {
   "cell_type": "code",
   "execution_count": 5,
   "metadata": {},
   "outputs": [],
   "source": [
    "from sklearn.model_selection import train_test_split\n",
    "\n",
    "# Select target\n",
    "y = bfs_dataFrame.Purchase\n",
    "\n",
    "predictors = bfs_dataFrame.drop(['Purchase'], axis=1)\n",
    "X = predictors.select_dtypes(exclude=['object'])\n",
    "\n",
    "# Divide data into training and validation subsets\n",
    "X_train, X_val, y_train, y_val = train_test_split(X, y, train_size=0.8, test_size=0.2, random_state=0)"
   ]
  },
  {
   "cell_type": "code",
   "execution_count": 6,
   "metadata": {},
   "outputs": [],
   "source": [
    "from sklearn.ensemble import RandomForestRegressor\n",
    "from sklearn.metrics import mean_absolute_error\n",
    "\n",
    "# Function for comparing different approaches\n",
    "def score_dataset(X_train, X_val, y_train, y_val):\n",
    "    model = RandomForestRegressor(n_estimators=10, random_state=0)\n",
    "    model.fit(X_train, y_train)\n",
    "    preds = model.predict(X_val)\n",
    "    return mean_absolute_error(y_val, preds)"
   ]
  },
  {
   "cell_type": "code",
   "execution_count": 7,
   "metadata": {},
   "outputs": [
    {
     "name": "stdout",
     "output_type": "stream",
     "text": [
      "MAE from Approach 1 (Drop columns with missing values):\n",
      "2111.098160509049\n"
     ]
    }
   ],
   "source": [
    "# Get names of columns with missing values\n",
    "cols_with_missing = [col for col in X_train.columns\n",
    "                     if X_train[col].isnull().any()]\n",
    "\n",
    "reduced_X_train = X_train.drop(cols_with_missing, axis=1)\n",
    "reduced_X_val = X_val.drop(cols_with_missing, axis=1)\n",
    "\n",
    "print(\"MAE from Approach 1 (Drop columns with missing values):\")\n",
    "print(score_dataset(reduced_X_train, reduced_X_val, y_train, y_val))"
   ]
  },
  {
   "cell_type": "code",
   "execution_count": 8,
   "metadata": {},
   "outputs": [
    {
     "name": "stdout",
     "output_type": "stream",
     "text": [
      "MAE from Approach 2 (Imputation):\n",
      "2226.7799565145788\n"
     ]
    }
   ],
   "source": [
    "from sklearn.impute import SimpleImputer\n",
    "\n",
    "# Imputation\n",
    "my_imputer = SimpleImputer()\n",
    "imputed_X_train = pd.DataFrame(my_imputer.fit_transform(X_train))\n",
    "imputed_X_valid = pd.DataFrame(my_imputer.transform(X_val))\n",
    "\n",
    "# Imputation removed column names; put them back\n",
    "imputed_X_train.columns = X_train.columns\n",
    "imputed_X_valid.columns = X_val.columns\n",
    "\n",
    "print(\"MAE from Approach 2 (Imputation):\")\n",
    "print(score_dataset(imputed_X_train, imputed_X_valid, y_train, y_val))"
   ]
  },
  {
   "cell_type": "code",
   "execution_count": 9,
   "metadata": {},
   "outputs": [
    {
     "name": "stdout",
     "output_type": "stream",
     "text": [
      "MAE from Approach 3 (An Extension to Imputation):\n",
      "2226.4028217874193\n"
     ]
    }
   ],
   "source": [
    "# Make copy to avoid changing original data (when imputing)\n",
    "X_train_plus = X_train.copy()\n",
    "X_valid_plus = X_val.copy()\n",
    "\n",
    "# Make new columns indicating what will be imputed\n",
    "for col in cols_with_missing:\n",
    "    X_train_plus[col + '_was_missing'] = X_train_plus[col].isnull()\n",
    "    X_valid_plus[col + '_was_missing'] = X_valid_plus[col].isnull()\n",
    "\n",
    "# Imputation\n",
    "my_imputer = SimpleImputer()\n",
    "imputed_X_train_plus = pd.DataFrame(my_imputer.fit_transform(X_train_plus))\n",
    "imputed_X_valid_plus = pd.DataFrame(my_imputer.transform(X_valid_plus))\n",
    "\n",
    "# Imputation removed column names; put them back\n",
    "imputed_X_train_plus.columns = X_train_plus.columns\n",
    "imputed_X_valid_plus.columns = X_valid_plus.columns\n",
    "\n",
    "print(\"MAE from Approach 3 (An Extension to Imputation):\")\n",
    "print(score_dataset(imputed_X_train_plus, imputed_X_valid_plus, y_train, y_val))"
   ]
  },
  {
   "cell_type": "code",
   "execution_count": 94,
   "metadata": {},
   "outputs": [
    {
     "name": "stdout",
     "output_type": "stream",
     "text": [
      "(440054, 6)\n",
      "Product_Category_2    138955\n",
      "Product_Category_3    306663\n",
      "dtype: int64\n"
     ]
    }
   ],
   "source": [
    "# Shape of training data (num_rows, num_columns)\n",
    "print(X_train.shape)\n",
    "\n",
    "# Number of missing values in each column of training data\n",
    "missing_val_count_by_column = (X_train.isnull().sum())\n",
    "print(missing_val_count_by_column[missing_val_count_by_column > 0])"
   ]
  },
  {
   "cell_type": "code",
   "execution_count": 10,
   "metadata": {},
   "outputs": [],
   "source": [
    "# Assuming your DataFrame is named X_train\n",
    "X_train = X_train.drop(['Product_Category_2', 'Product_Category_3'], axis=1)"
   ]
  },
  {
   "cell_type": "code",
   "execution_count": 11,
   "metadata": {},
   "outputs": [
    {
     "data": {
      "text/html": [
       "<div>\n",
       "<style scoped>\n",
       "    .dataframe tbody tr th:only-of-type {\n",
       "        vertical-align: middle;\n",
       "    }\n",
       "\n",
       "    .dataframe tbody tr th {\n",
       "        vertical-align: top;\n",
       "    }\n",
       "\n",
       "    .dataframe thead th {\n",
       "        text-align: right;\n",
       "    }\n",
       "</style>\n",
       "<table border=\"1\" class=\"dataframe\">\n",
       "  <thead>\n",
       "    <tr style=\"text-align: right;\">\n",
       "      <th></th>\n",
       "      <th>User_ID</th>\n",
       "      <th>Occupation</th>\n",
       "      <th>Marital_Status</th>\n",
       "      <th>Product_Category_1</th>\n",
       "      <th>Product_Category_2</th>\n",
       "      <th>Product_Category_3</th>\n",
       "    </tr>\n",
       "    <tr>\n",
       "      <th>Purchase</th>\n",
       "      <th></th>\n",
       "      <th></th>\n",
       "      <th></th>\n",
       "      <th></th>\n",
       "      <th></th>\n",
       "      <th></th>\n",
       "    </tr>\n",
       "  </thead>\n",
       "  <tbody>\n",
       "    <tr>\n",
       "      <th>12</th>\n",
       "      <td>101320764</td>\n",
       "      <td>864</td>\n",
       "      <td>44</td>\n",
       "      <td>1919</td>\n",
       "      <td>0.0</td>\n",
       "      <td>0.0</td>\n",
       "    </tr>\n",
       "    <tr>\n",
       "      <th>13</th>\n",
       "      <td>106332492</td>\n",
       "      <td>927</td>\n",
       "      <td>43</td>\n",
       "      <td>2014</td>\n",
       "      <td>0.0</td>\n",
       "      <td>0.0</td>\n",
       "    </tr>\n",
       "    <tr>\n",
       "      <th>14</th>\n",
       "      <td>95274345</td>\n",
       "      <td>815</td>\n",
       "      <td>42</td>\n",
       "      <td>1805</td>\n",
       "      <td>0.0</td>\n",
       "      <td>0.0</td>\n",
       "    </tr>\n",
       "    <tr>\n",
       "      <th>24</th>\n",
       "      <td>118376594</td>\n",
       "      <td>1069</td>\n",
       "      <td>40</td>\n",
       "      <td>2242</td>\n",
       "      <td>0.0</td>\n",
       "      <td>0.0</td>\n",
       "    </tr>\n",
       "    <tr>\n",
       "      <th>25</th>\n",
       "      <td>113337416</td>\n",
       "      <td>911</td>\n",
       "      <td>44</td>\n",
       "      <td>2147</td>\n",
       "      <td>0.0</td>\n",
       "      <td>0.0</td>\n",
       "    </tr>\n",
       "    <tr>\n",
       "      <th>...</th>\n",
       "      <td>...</td>\n",
       "      <td>...</td>\n",
       "      <td>...</td>\n",
       "      <td>...</td>\n",
       "      <td>...</td>\n",
       "      <td>...</td>\n",
       "    </tr>\n",
       "    <tr>\n",
       "      <th>23956</th>\n",
       "      <td>1005102</td>\n",
       "      <td>12</td>\n",
       "      <td>0</td>\n",
       "      <td>10</td>\n",
       "      <td>15.0</td>\n",
       "      <td>0.0</td>\n",
       "    </tr>\n",
       "    <tr>\n",
       "      <th>23958</th>\n",
       "      <td>4014173</td>\n",
       "      <td>8</td>\n",
       "      <td>2</td>\n",
       "      <td>40</td>\n",
       "      <td>52.0</td>\n",
       "      <td>32.0</td>\n",
       "    </tr>\n",
       "    <tr>\n",
       "      <th>23959</th>\n",
       "      <td>2005334</td>\n",
       "      <td>13</td>\n",
       "      <td>1</td>\n",
       "      <td>20</td>\n",
       "      <td>13.0</td>\n",
       "      <td>16.0</td>\n",
       "    </tr>\n",
       "    <tr>\n",
       "      <th>23960</th>\n",
       "      <td>4016066</td>\n",
       "      <td>33</td>\n",
       "      <td>3</td>\n",
       "      <td>40</td>\n",
       "      <td>59.0</td>\n",
       "      <td>0.0</td>\n",
       "    </tr>\n",
       "    <tr>\n",
       "      <th>23961</th>\n",
       "      <td>3006906</td>\n",
       "      <td>21</td>\n",
       "      <td>1</td>\n",
       "      <td>30</td>\n",
       "      <td>45.0</td>\n",
       "      <td>0.0</td>\n",
       "    </tr>\n",
       "  </tbody>\n",
       "</table>\n",
       "<p>18105 rows × 6 columns</p>\n",
       "</div>"
      ],
      "text/plain": [
       "            User_ID  Occupation  Marital_Status  Product_Category_1  \\\n",
       "Purchase                                                              \n",
       "12        101320764         864              44                1919   \n",
       "13        106332492         927              43                2014   \n",
       "14         95274345         815              42                1805   \n",
       "24        118376594        1069              40                2242   \n",
       "25        113337416         911              44                2147   \n",
       "...             ...         ...             ...                 ...   \n",
       "23956       1005102          12               0                  10   \n",
       "23958       4014173           8               2                  40   \n",
       "23959       2005334          13               1                  20   \n",
       "23960       4016066          33               3                  40   \n",
       "23961       3006906          21               1                  30   \n",
       "\n",
       "          Product_Category_2  Product_Category_3  \n",
       "Purchase                                          \n",
       "12                       0.0                 0.0  \n",
       "13                       0.0                 0.0  \n",
       "14                       0.0                 0.0  \n",
       "24                       0.0                 0.0  \n",
       "25                       0.0                 0.0  \n",
       "...                      ...                 ...  \n",
       "23956                   15.0                 0.0  \n",
       "23958                   52.0                32.0  \n",
       "23959                   13.0                16.0  \n",
       "23960                   59.0                 0.0  \n",
       "23961                   45.0                 0.0  \n",
       "\n",
       "[18105 rows x 6 columns]"
      ]
     },
     "execution_count": 11,
     "metadata": {},
     "output_type": "execute_result"
    }
   ],
   "source": [
    "group_data_by_ProductID_count = bfs_dataFrame.groupby('Purchase').sum().sort_index()\n",
    "group_data_by_ProductID_count"
   ]
  },
  {
   "cell_type": "code",
   "execution_count": 97,
   "metadata": {},
   "outputs": [
    {
     "name": "stdout",
     "output_type": "stream",
     "text": [
      "The city category 'B' made the most purchases with a total purchase amount of 2115533605.\n"
     ]
    }
   ],
   "source": [
    "# Grouping the DataFrame by 'City_Category' and summing the 'Purchase' column\n",
    "purchase_by_city = bfs_dataFrame.groupby('City_Category')['Purchase'].sum()\n",
    "\n",
    "# Finding the city category with the highest total purchases\n",
    "city_with_most_purchases = purchase_by_city.idxmax()\n",
    "\n",
    "# Getting the total purchases for the city category with the highest purchases\n",
    "most_purchases_amount = purchase_by_city.max()\n",
    "\n",
    "print(f\"The city category '{city_with_most_purchases}' made the most purchases with a total purchase amount of {most_purchases_amount}.\")\n"
   ]
  },
  {
   "cell_type": "code",
   "execution_count": 98,
   "metadata": {},
   "outputs": [
    {
     "data": {
      "image/png": "[encoded data removed]",
      "text/plain": [
       "<Figure size 800x600 with 1 Axes>"
      ]
     },
     "metadata": {},
     "output_type": "display_data"
    }
   ],
   "source": [
    "import matplotlib.pyplot as plt\n",
    "\n",
    "# Grouping the DataFrame by 'City_Category' and summing the 'Purchase' column\n",
    "purchase_by_city = bfs_dataFrame.groupby('City_Category')['Purchase'].sum()\n",
    "\n",
    "# Plotting the bar chart\n",
    "plt.figure(figsize=(8, 6))\n",
    "purchase_by_city.plot(kind='bar', color='skyblue')\n",
    "plt.title('Total Purchase Amount by City Category')\n",
    "plt.xlabel('City Category')\n",
    "plt.ylabel('Total Purchase Amount')\n",
    "plt.xticks(rotation=0)  # Rotate x-axis labels if needed\n",
    "plt.grid(axis='y', linestyle='--', alpha=0.7)  # Add horizontal grid lines\n",
    "plt.tight_layout()\n",
    "plt.show()\n"
   ]
  },
  {
   "cell_type": "code",
   "execution_count": 105,
   "metadata": {},
   "outputs": [
    {
     "data": {
      "image/png": "[encoded data removed]",
      "text/plain": [
       "<Figure size 800x600 with 1 Axes>"
      ]
     },
     "metadata": {},
     "output_type": "display_data"
    }
   ],
   "source": [
    "# Grouping the DataFrame by 'Gender' and counting the number of purchases for each gender\n",
    "purchase_by_gender = bfs_dataFrame.groupby('Gender').size()\n",
    "\n",
    "# Plotting the bar chart\n",
    "plt.figure(figsize=(8, 6))\n",
    "purchase_by_gender.plot(kind='bar', color=['pink', 'skyblue'])\n",
    "plt.title('Number of Purchases by Gender')\n",
    "plt.xlabel('Gender')\n",
    "plt.ylabel('Number of Purchases')\n",
    "plt.xticks(rotation=0)\n",
    "plt.grid(axis='y', linestyle='--', alpha=0.7)\n",
    "plt.tight_layout()\n",
    "plt.show()\n"
   ]
  },
  {
   "cell_type": "code",
   "execution_count": 100,
   "metadata": {},
   "outputs": [
    {
     "name": "stdout",
     "output_type": "stream",
     "text": [
      "Age group 0-17: 15102 occurrences\n",
      "Age group 55+: 21504 occurrences\n",
      "Age group 26-35: 219587 occurrences\n",
      "Age group 46-50: 45701 occurrences\n",
      "Age group 51-55: 38501 occurrences\n",
      "Age group 36-45: 110013 occurrences\n",
      "Age group 18-25: 99660 occurrences\n"
     ]
    }
   ],
   "source": [
    "from collections import Counter\n",
    "\n",
    "# Convert the list to a Counter object to count occurrences of each age group\n",
    "age_counts = Counter(bfs_dataFrame[('Age')])\n",
    "\n",
    "# Print the counts of each age group\n",
    "for age_group, count in age_counts.items():\n",
    "    print(f\"Age group {age_group}: {count} occurrences\")\n"
   ]
  },
  {
   "cell_type": "code",
   "execution_count": 101,
   "metadata": {},
   "outputs": [
    {
     "data": {
      "image/png": "[encoded data removed]",
      "text/plain": [
       "<Figure size 800x600 with 1 Axes>"
      ]
     },
     "metadata": {},
     "output_type": "display_data"
    }
   ],
   "source": [
    "import matplotlib.pyplot as plt\n",
    "\n",
    "# Convert the list to a pandas Series for easier plotting\n",
    "age_series = pd.Series(bfs_dataFrame[('Age')])\n",
    "\n",
    "# Plot a histogram of the ages\n",
    "plt.figure(figsize=(8, 6))\n",
    "age_series.value_counts().sort_index().plot(kind='bar', color='skyblue')\n",
    "plt.title('Distribution of Ages')\n",
    "plt.xlabel('Age Group')\n",
    "plt.ylabel('Count')\n",
    "plt.xticks(rotation=45)\n",
    "plt.grid(axis='y', linestyle='--', alpha=0.7)\n",
    "plt.tight_layout()\n",
    "plt.show()\n"
   ]
  },
  {
   "cell_type": "code",
   "execution_count": 102,
   "metadata": {},
   "outputs": [
    {
     "name": "stdout",
     "output_type": "stream",
     "text": [
      "Age    Gender\n",
      "0-17   F           5083\n",
      "       M          10019\n",
      "18-25  F          24628\n",
      "       M          75032\n",
      "26-35  F          50752\n",
      "       M         168835\n",
      "36-45  F          27170\n",
      "       M          82843\n",
      "46-50  F          13199\n",
      "       M          32502\n",
      "51-55  F           9894\n",
      "       M          28607\n",
      "55+    F           5083\n",
      "       M          16421\n",
      "dtype: int64\n"
     ]
    }
   ],
   "source": [
    "# Grouping the DataFrame by both 'Age' and 'Gender' and counting the number of occurrences for each combination\n",
    "gender_age_counts = bfs_dataFrame.groupby(['Age', 'Gender']).size()\n",
    "\n",
    "# Printing the counts of each age group and gender combination\n",
    "print(gender_age_counts)\n"
   ]
  },
  {
   "cell_type": "code",
   "execution_count": 104,
   "metadata": {},
   "outputs": [
    {
     "data": {
      "text/plain": [
       "<Figure size 1000x600 with 0 Axes>"
      ]
     },
     "metadata": {},
     "output_type": "display_data"
    },
    {
     "data": {
      "image/png": "[encoded data removed]",
      "text/plain": [
       "<Figure size 640x480 with 1 Axes>"
      ]
     },
     "metadata": {},
     "output_type": "display_data"
    }
   ],
   "source": [
    "import matplotlib.pyplot as plt\n",
    "\n",
    "# Grouping the DataFrame by both 'Age' and 'Gender' and counting the number of occurrences for each combination\n",
    "gender_age_counts = bfs_dataFrame.groupby(['Age', 'Gender']).size().unstack()\n",
    "\n",
    "# Plotting the grouped bar chart\n",
    "plt.figure(figsize=(10, 6))\n",
    "gender_age_counts.plot(kind='bar', color=['pink', 'skyblue'], width=0.8)\n",
    "plt.title('Counts of Each Age Group by Gender')\n",
    "plt.xlabel('Age Group')\n",
    "plt.ylabel('Count')\n",
    "plt.xticks(rotation=45)\n",
    "plt.legend(title='Gender')\n",
    "plt.grid(axis='y', linestyle='--', alpha=0.7)\n",
    "plt.tight_layout()\n",
    "plt.show()\n"
   ]
  },
  {
   "cell_type": "code",
   "execution_count": 111,
   "metadata": {},
   "outputs": [
    {
     "name": "stdout",
     "output_type": "stream",
     "text": [
      "Age    Gender\n",
      "0-17   F           4238.5978\n",
      "       M           9252.7205\n",
      "18-25  F          20547.5842\n",
      "       M          70837.2833\n",
      "26-35  F          44297.6233\n",
      "       M         158879.4345\n",
      "36-45  F          24343.8963\n",
      "       M          78313.0921\n",
      "46-50  F          11670.6864\n",
      "       M          30413.6539\n",
      "51-55  F           8946.5997\n",
      "       M          27763.3647\n",
      "55+    F           4578.2765\n",
      "       M          15498.4610\n",
      "Name: Purchase, dtype: float64\n"
     ]
    }
   ],
   "source": [
    "# Grouping the DataFrame by both 'Age' and 'Gender' and summing the 'Purchase' column for each combination\n",
    "purchase_by_age_gender = bfs_dataFrame.groupby(['Age', 'Gender'])['Purchase'].sum()\n",
    "\n",
    "# Printing the sum of purchases for each age group and gender combination\n",
    "print(purchase_by_age_gender)\n"
   ]
  },
  {
   "cell_type": "code",
   "execution_count": 110,
   "metadata": {},
   "outputs": [
    {
     "name": "stdout",
     "output_type": "stream",
     "text": [
      "   User_ID Product_ID Gender   Age  Occupation City_Category  \\\n",
      "0  1000001  P00069042      F  0-17          10             A   \n",
      "1  1000001  P00248942      F  0-17          10             A   \n",
      "2  1000001  P00087842      F  0-17          10             A   \n",
      "3  1000001  P00085442      F  0-17          10             A   \n",
      "4  1000002  P00285442      M   55+          16             C   \n",
      "\n",
      "  Stay_In_Current_City_Years  Marital_Status  Product_Category_1  \\\n",
      "0                          2               0                   3   \n",
      "1                          2               0                   1   \n",
      "2                          2               0                  12   \n",
      "3                          2               0                  12   \n",
      "4                         4+               0                   8   \n",
      "\n",
      "   Product_Category_2  Product_Category_3  Purchase  \n",
      "0                 NaN                 NaN    0.8370  \n",
      "1                 6.0                14.0    1.5200  \n",
      "2                 NaN                 NaN    0.1422  \n",
      "3                14.0                 NaN    0.1057  \n",
      "4                 NaN                 NaN    0.7969  \n"
     ]
    },
    {
     "data": {
      "text/plain": [
       "<Figure size 1000x600 with 0 Axes>"
      ]
     },
     "metadata": {},
     "output_type": "display_data"
    },
    {
     "data": {
      "image/png": "[encoded data removed]",
      "text/plain": [
       "<Figure size 640x480 with 1 Axes>"
      ]
     },
     "metadata": {},
     "output_type": "display_data"
    }
   ],
   "source": [
    "import matplotlib.pyplot as plt\n",
    "\n",
    "# Convert 'Purchase' column to decimal format\n",
    "bfs_dataFrame['Purchase'] = bfs_dataFrame['Purchase'] / 100\n",
    "\n",
    "# Print the DataFrame to verify the conversion\n",
    "print(bfs_dataFrame.head())\n",
    "\n",
    "# Grouping the DataFrame by both 'Age' and 'Gender' and summing the 'Purchase' column for each combination\n",
    "purchase_by_age_gender = bfs_dataFrame.groupby(['Age', 'Gender'])['Purchase'].sum().unstack()\n",
    "\n",
    "# Plotting the grouped bar chart\n",
    "plt.figure(figsize=(10, 6))\n",
    "purchase_by_age_gender.plot(kind='bar', color=['pink', 'skyblue'])\n",
    "plt.title('Sum of Purchases by Age Group and Gender')\n",
    "plt.xlabel('Age Group')\n",
    "plt.ylabel('Total Purchase Amount')\n",
    "plt.xticks(rotation=45)\n",
    "plt.legend(title='Gender')\n",
    "plt.grid(axis='y', linestyle='--', alpha=0.7)\n",
    "plt.tight_layout()\n",
    "plt.show()\n"
   ]
  },
  {
   "cell_type": "code",
   "execution_count": 129,
   "metadata": {},
   "outputs": [
    {
     "name": "stdout",
     "output_type": "stream",
     "text": [
      "Least sold products for males:\n",
      "P00364542    1\n",
      "P00062342    1\n",
      "P00300742    1\n",
      "P00067442    1\n",
      "P00063442    1\n",
      "            ..\n",
      "P00340742    1\n",
      "P00306942    1\n",
      "P00144142    1\n",
      "P00065542    1\n",
      "P00203742    1\n",
      "Name: Product_ID, Length: 160, dtype: int64\n"
     ]
    }
   ],
   "source": [
    "# Filter the DataFrame to include only purchases made by males\n",
    "male_purchases = bfs_dataFrame[bfs_dataFrame['Gender'] == 'M']\n",
    "\n",
    "# Count the occurrences of each product purchased by males\n",
    "male_product_counts = male_purchases['Product_ID'].value_counts()\n",
    "\n",
    "# Identify the products with the lowest counts (least sold products for males)\n",
    "least_sold_products_male = male_product_counts[male_product_counts == male_product_counts.min()]\n",
    "\n",
    "# Print the least sold products for males\n",
    "print(\"Least sold products for males:\")\n",
    "print(least_sold_products_male)\n"
   ]
  },
  {
   "cell_type": "code",
   "execution_count": 131,
   "metadata": {},
   "outputs": [
    {
     "name": "stdout",
     "output_type": "stream",
     "text": [
      "User_ID                            0\n",
      "Product_ID                         0\n",
      "Gender                             0\n",
      "Age                                0\n",
      "Occupation                         0\n",
      "City_Category                      0\n",
      "Stay_In_Current_City_Years         0\n",
      "Marital_Status                     0\n",
      "Product_Category_1                 0\n",
      "Product_Category_2            173638\n",
      "Product_Category_3            383247\n",
      "Purchase                           0\n",
      "dtype: int64\n"
     ]
    }
   ],
   "source": [
    "# Check for missing values\n",
    "missing_values = bfs_dataFrame.isnull().sum()\n",
    "print(missing_values)\n"
   ]
  },
  {
   "cell_type": "code",
   "execution_count": 132,
   "metadata": {},
   "outputs": [
    {
     "name": "stdout",
     "output_type": "stream",
     "text": [
      "User_ID                       0\n",
      "Product_ID                    0\n",
      "Gender                        0\n",
      "Age                           0\n",
      "Occupation                    0\n",
      "City_Category                 0\n",
      "Stay_In_Current_City_Years    0\n",
      "Marital_Status                0\n",
      "Product_Category_1            0\n",
      "Product_Category_2            0\n",
      "Product_Category_3            0\n",
      "Purchase                      0\n",
      "dtype: int64\n"
     ]
    }
   ],
   "source": [
    "# Impute missing values with the mean of each respective column\n",
    "bfs_dataFrame['Product_Category_2'].fillna(bfs_dataFrame['Product_Category_2'].mean(), inplace=True)\n",
    "bfs_dataFrame['Product_Category_3'].fillna(bfs_dataFrame['Product_Category_3'].mean(), inplace=True)\n",
    "\n",
    "# Check if missing values have been handled\n",
    "missing_values_after_imputation = bfs_dataFrame.isnull().sum()\n",
    "print(missing_values_after_imputation)\n"
   ]
  },
  {
   "cell_type": "code",
   "execution_count": 134,
   "metadata": {},
   "outputs": [
    {
     "name": "stdout",
     "output_type": "stream",
     "text": [
      "   User_ID Product_ID  Occupation  Marital_Status  Product_Category_1  \\\n",
      "0  1000001  P00069042          10               0                   3   \n",
      "1  1000001  P00248942          10               0                   1   \n",
      "2  1000001  P00087842          10               0                  12   \n",
      "3  1000001  P00085442          10               0                  12   \n",
      "4  1000002  P00285442          16               0                   8   \n",
      "\n",
      "   Product_Category_2  Product_Category_3  Purchase  Gender_M  Age_18-25  ...  \\\n",
      "0            9.842329           12.668243    0.8370         0          0  ...   \n",
      "1            6.000000           14.000000    1.5200         0          0  ...   \n",
      "2            9.842329           12.668243    0.1422         0          0  ...   \n",
      "3           14.000000           12.668243    0.1057         0          0  ...   \n",
      "4            9.842329           12.668243    0.7969         1          0  ...   \n",
      "\n",
      "   Age_36-45  Age_46-50  Age_51-55  Age_55+  City_Category_B  City_Category_C  \\\n",
      "0          0          0          0        0                0                0   \n",
      "1          0          0          0        0                0                0   \n",
      "2          0          0          0        0                0                0   \n",
      "3          0          0          0        0                0                0   \n",
      "4          0          0          0        1                0                1   \n",
      "\n",
      "   Stay_In_Current_City_Years_1  Stay_In_Current_City_Years_2  \\\n",
      "0                             0                             1   \n",
      "1                             0                             1   \n",
      "2                             0                             1   \n",
      "3                             0                             1   \n",
      "4                             0                             0   \n",
      "\n",
      "   Stay_In_Current_City_Years_3  Stay_In_Current_City_Years_4+  \n",
      "0                             0                              0  \n",
      "1                             0                              0  \n",
      "2                             0                              0  \n",
      "3                             0                              0  \n",
      "4                             0                              1  \n",
      "\n",
      "[5 rows x 21 columns]\n"
     ]
    }
   ],
   "source": [
    "# Perform one-hot encoding for categorical variables\n",
    "df_encoded = pd.get_dummies(bfs_dataFrame, columns=['Gender', 'Age', 'City_Category', 'Stay_In_Current_City_Years'], drop_first=True)\n",
    "\n",
    "# Display the first few rows of the encoded dataframe\n",
    "print(df_encoded.head())\n"
   ]
  },
  {
   "cell_type": "code",
   "execution_count": 135,
   "metadata": {},
   "outputs": [
    {
     "name": "stdout",
     "output_type": "stream",
     "text": [
      "Product_ID  P00000142  P00000242  P00000342  P00000442  P00000542  P00000642  \\\n",
      "User_ID                                                                        \n",
      "1000001         1.365        0.0        0.0        0.0        0.0        0.0   \n",
      "1000002         0.000        0.0        0.0        0.0        0.0        0.0   \n",
      "1000003         0.000        0.0        0.0        0.0        0.0        0.0   \n",
      "1000004         0.000        0.0        0.0        0.0        0.0        0.0   \n",
      "1000005         0.000        0.0        0.0        0.0        0.0        0.0   \n",
      "\n",
      "Product_ID  P00000742  P00000842  P00000942  P00001042  ...  P0098942  \\\n",
      "User_ID                                                 ...             \n",
      "1000001           0.0        0.0        0.0        0.0  ...       0.0   \n",
      "1000002           0.0        0.0        0.0        0.0  ...       0.0   \n",
      "1000003           0.0        0.0        0.0        0.0  ...       0.0   \n",
      "1000004           0.0        0.0        0.0        0.0  ...       0.0   \n",
      "1000005           0.0        0.0        0.0        0.0  ...       0.0   \n",
      "\n",
      "Product_ID  P0099042  P0099142  P0099242  P0099342  P0099442  P0099642  \\\n",
      "User_ID                                                                  \n",
      "1000001          0.0       0.0       0.0       0.0       0.0       0.0   \n",
      "1000002          0.0       0.0       0.0       0.0       0.0       0.0   \n",
      "1000003          0.0       0.0       0.0       0.0       0.0       0.0   \n",
      "1000004          0.0       0.0       0.0       0.0       0.0       0.0   \n",
      "1000005          0.0       0.0       0.0       0.0       0.0       0.0   \n",
      "\n",
      "Product_ID  P0099742  P0099842  P0099942  \n",
      "User_ID                                   \n",
      "1000001          0.0       0.0       0.0  \n",
      "1000002          0.0       0.0       0.0  \n",
      "1000003          0.0       0.0       0.0  \n",
      "1000004          0.0       0.0       0.0  \n",
      "1000005          0.0       0.0       0.0  \n",
      "\n",
      "[5 rows x 3631 columns]\n"
     ]
    }
   ],
   "source": [
    "# Create user-item interaction matrix\n",
    "user_item_matrix = df_encoded.pivot_table(index='User_ID', columns='Product_ID', values='Purchase', fill_value=0)\n",
    "\n",
    "# Display the user-item interaction matrix\n",
    "print(user_item_matrix.head())\n"
   ]
  },
  {
   "cell_type": "code",
   "execution_count": 136,
   "metadata": {},
   "outputs": [
    {
     "name": "stdout",
     "output_type": "stream",
     "text": [
      "User Similarity Matrix:\n",
      "User_ID   1000001   1000002   1000003   1000004   1000005   1000006   1000007  \\\n",
      "User_ID                                                                         \n",
      "1000001  1.000000  0.022420  0.052275  0.260852  0.141631  0.081421  0.016365   \n",
      "1000002  0.022420  1.000000  0.123485  0.030775  0.060786  0.084933  0.145114   \n",
      "1000003  0.052275  0.123485  1.000000  0.104895  0.007618  0.069309  0.057641   \n",
      "1000004  0.260852  0.030775  0.104895  1.000000  0.029624  0.036026  0.068604   \n",
      "1000005  0.141631  0.060786  0.007618  0.029624  1.000000  0.034333  0.141153   \n",
      "\n",
      "User_ID   1000008   1000009   1000010  ...   1006031   1006032   1006033  \\\n",
      "User_ID                                ...                                 \n",
      "1000001  0.134522  0.235245  0.103021  ...  0.072683  0.089189  0.109942   \n",
      "1000002  0.154445  0.084236  0.079004  ...  0.019930  0.064210  0.262698   \n",
      "1000003  0.110637  0.049278  0.112235  ...  0.073777  0.053514  0.174381   \n",
      "1000004  0.176671  0.123680  0.084464  ...  0.066420  0.102283  0.280602   \n",
      "1000005  0.180935  0.243927  0.061154  ...  0.140559  0.023336  0.059061   \n",
      "\n",
      "User_ID   1006034   1006035   1006036   1006037   1006038   1006039   1006040  \n",
      "User_ID                                                                        \n",
      "1000001  0.020183  0.037929  0.129097  0.107437  0.000125  0.194443  0.191374  \n",
      "1000002  0.032127  0.175981  0.139993  0.157310  0.041487  0.012299  0.114640  \n",
      "1000003  0.000000  0.093593  0.102722  0.035483  0.000000  0.053688  0.078883  \n",
      "1000004  0.000000  0.044974  0.150500  0.057192  0.000104  0.079188  0.139221  \n",
      "1000005  0.023214  0.134287  0.188529  0.096137  0.010949  0.023326  0.209608  \n",
      "\n",
      "[5 rows x 5891 columns]\n"
     ]
    }
   ],
   "source": [
    "from sklearn.metrics.pairwise import cosine_similarity\n",
    "\n",
    "# Calculate cosine similarity between users\n",
    "user_similarity_matrix = cosine_similarity(user_item_matrix)\n",
    "\n",
    "# Convert the similarity matrix into a DataFrame for better visualization\n",
    "user_similarity_df = pd.DataFrame(user_similarity_matrix, index=user_item_matrix.index, columns=user_item_matrix.index)\n",
    "\n",
    "# Display the user similarity matrix\n",
    "print(\"User Similarity Matrix:\")\n",
    "print(user_similarity_df.head())\n"
   ]
  },
  {
   "cell_type": "code",
   "execution_count": 146,
   "metadata": {},
   "outputs": [
    {
     "name": "stdout",
     "output_type": "stream",
     "text": [
      "Top 5 Recommended Products for User 1000001\n",
      "Product_ID\n",
      "P00110742    2672.2309\n",
      "P00112142    2421.6006\n",
      "P00110942    2363.9564\n",
      "P00237542    2342.5576\n",
      "P00057642    2310.2780\n",
      "dtype: float64\n"
     ]
    }
   ],
   "source": [
    "def generate_recommendations(target_user_id, user_similarity_df, user_item_matrix, top_n=5):\n",
    "    # Find most similar users to the target user\n",
    "    similar_users = user_similarity_df[target_user_id].sort_values(ascending=False)[1:]\n",
    "    \n",
    "    # Get items purchased by similar users but not by the target user\n",
    "    items_purchased_by_similar_users = user_item_matrix.loc[similar_users.index]\n",
    "    \n",
    "    # Filter items not purchased by the target user\n",
    "    target_user_purchases = user_item_matrix.loc[target_user_id]\n",
    "    items_not_purchased_by_target_user = items_purchased_by_similar_users.loc[:, ~target_user_purchases.index.isin(target_user_purchases[target_user_purchases != 0].index)]\n",
    "    \n",
    "    # Calculate total purchase amount for each item\n",
    "    item_purchase_amount = items_not_purchased_by_target_user.sum(axis=0)\n",
    "    \n",
    "    # Rank items based on total purchase amount\n",
    "    recommended_items = item_purchase_amount.sort_values(ascending=False).head(top_n)\n",
    "    \n",
    "    return recommended_items\n",
    "\n",
    "# Example: Generate recommendations for a target user with User_ID 1000001\n",
    "target_user_id = 1000001\n",
    "recommendations = generate_recommendations(target_user_id, user_similarity_df, user_item_matrix)\n",
    "print(\"Top 5 Recommended Products for User\", target_user_id)\n",
    "print(recommendations)\n"
   ]
  }
 ],
 "metadata": {
  "kernelspec": {
   "display_name": "base",
   "language": "python",
   "name": "python3"
  },
  "language_info": {
   "codemirror_mode": {
    "name": "ipython",
    "version": 3
   },
   "file_extension": ".py",
   "mimetype": "text/x-python",
   "name": "python",
   "nbconvert_exporter": "python",
   "pygments_lexer": "ipython3",
   "version": "3.9.13"
  }
 },
 "nbformat": 4,
 "nbformat_minor": 2
}
